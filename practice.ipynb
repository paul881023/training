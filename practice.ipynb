{
 "cells": [
  {
   "cell_type": "code",
   "execution_count": null,
   "metadata": {},
   "outputs": [],
   "source": [
    "from apyori import apriori\n",
    "\n",
    "data = [['a','c','d'],\n",
    "       ['b','c','e'],\n",
    "       ['a','b','c','e'],\n",
    "       ['b','e'],\n",
    "       ['b','d']]\n",
    "assoiciation_rules = apriori(data, min_support=0.4, min_confidence=0.8)\n",
    "\n",
    "association_results = list(assoiciation_rules)\n",
    "for item in association_results:\n",
    "    li_item = list(item)\n",
    "    for i in li_item[2]:\n",
    "        a = list(i)\n",
    "        print('items_base',list((a[0])))\n",
    "        print('items_add',list((a[1])))\n",
    "        print('confidence', a[2])\n",
    "        print('lift:',a[3])\n",
    "    print('support',li_item[1])\n",
    "    print('-----')"
   ]
  }
 ],
 "metadata": {
  "interpreter": {
   "hash": "7f783c729d70ea6536d35ed3f5e70db84b6cb7f9894f5bd401c4df087fba4e6b"
  },
  "kernelspec": {
   "display_name": "Python 3.9.11 ('myvenv')",
   "language": "python",
   "name": "python3"
  },
  "language_info": {
   "name": "python",
   "version": "3.9.11"
  },
  "orig_nbformat": 4
 },
 "nbformat": 4,
 "nbformat_minor": 2
}
